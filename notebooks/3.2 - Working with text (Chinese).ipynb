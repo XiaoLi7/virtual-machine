{
 "cells": [
  {
   "cell_type": "code",
   "execution_count": 1,
   "metadata": {
    "collapsed": true
   },
   "outputs": [],
   "source": [
    "import re"
   ]
  },
  {
   "cell_type": "code",
   "execution_count": 2,
   "metadata": {},
   "outputs": [
    {
     "name": "stdout",
     "output_type": "stream",
     "text": [
      "length of text: 757732\n"
     ]
    }
   ],
   "source": [
    "filename = \"data/journey.txt\"\n",
    "raw_text = open(filename).read()\n",
    "\n",
    "n_chars = len(raw_text)\n",
    "print(\"length of text:\", n_chars)"
   ]
  },
  {
   "cell_type": "code",
   "execution_count": 9,
   "metadata": {},
   "outputs": [
    {
     "name": "stdout",
     "output_type": "stream",
     "text": [
      "number of paragraphs: 25876\n",
      "number of characters: 593579\n"
     ]
    }
   ],
   "source": [
    "paragraphs = raw_text.split('\\n')\n",
    "paragraphs = [p for p in paragraphs if len(p) > 0]\n",
    "print(\"number of paragraphs:\", len(paragraphs))\n",
    "\n",
    "characters = []\n",
    "for p in paragraphs:\n",
    "    characters += re.sub('[，,。,：,﹔,《,》,」,「,一,　]', '', p)\n",
    "print(\"number of characters:\", len(characters))\n",
    "\n",
    "# letters = []\n",
    "# for w in words:\n",
    "#     letters += w\n",
    "# print \"number of letters:\", len(letters)"
   ]
  },
  {
   "cell_type": "code",
   "execution_count": 10,
   "metadata": {},
   "outputs": [
    {
     "name": "stdout",
     "output_type": "stream",
     "text": [
      "('道', 11079)\n",
      "most common characters: ['道', '不', '了', '那', '我', '是', '來', '他', '個', '行']\n",
      "unique characters: 4560\n"
     ]
    }
   ],
   "source": [
    "# https://docs.python.org/3/library/collections.html#counter-objects\n",
    "import collections\n",
    "\n",
    "charSet = collections.Counter(characters)\n",
    "common = charSet.most_common(10)\n",
    "print(common[0])\n",
    "print(\"most common characters:\", [c[0] for c in common])\n",
    "\n",
    "uniqueChars = list(charSet)\n",
    "print(\"unique characters:\", len(uniqueChars))\n",
    "\n",
    "# letterSet = collections.Counter(letters)\n",
    "# print \"most common letters:\", letterSet.most_common(10)"
   ]
  },
  {
   "cell_type": "code",
   "execution_count": 5,
   "metadata": {},
   "outputs": [
    {
     "ename": "SyntaxError",
     "evalue": "Missing parentheses in call to 'print' (<ipython-input-5-1d80fd99ac0a>, line 4)",
     "output_type": "error",
     "traceback": [
      "\u001b[0;36m  File \u001b[0;32m\"<ipython-input-5-1d80fd99ac0a>\"\u001b[0;36m, line \u001b[0;32m4\u001b[0m\n\u001b[0;31m    print \"number of unique characters found:\", n_vocab\u001b[0m\n\u001b[0m                                             ^\u001b[0m\n\u001b[0;31mSyntaxError\u001b[0m\u001b[0;31m:\u001b[0m Missing parentheses in call to 'print'\n"
     ]
    }
   ],
   "source": [
    "# extract all unique characters in the text\n",
    "chars = sorted(list(set(raw_text)))\n",
    "n_vocab = len(chars)\n",
    "print \"number of unique characters found:\", n_vocab\n",
    "\n",
    "print chars\n",
    "\n",
    "# create mapping of characters to integers and back\n",
    "char_to_int = dict((c, i) for i, c in enumerate(chars))\n",
    "int_to_char = dict((i, c) for i, c in enumerate(chars))\n",
    "\n",
    "# test our mapping\n",
    "print 'a', \"- maps to ->\", char_to_int[\"a\"]\n",
    "print 25, \"- maps to ->\", int_to_char[25]"
   ]
  },
  {
   "cell_type": "code",
   "execution_count": null,
   "metadata": {
    "collapsed": true
   },
   "outputs": [],
   "source": []
  }
 ],
 "metadata": {
  "kernelspec": {
   "display_name": "Python 3",
   "language": "python",
   "name": "python3"
  },
  "language_info": {
   "codemirror_mode": {
    "name": "ipython",
    "version": 3
   },
   "file_extension": ".py",
   "mimetype": "text/x-python",
   "name": "python",
   "nbconvert_exporter": "python",
   "pygments_lexer": "ipython3",
   "version": "3.6.1"
  }
 },
 "nbformat": 4,
 "nbformat_minor": 2
}
