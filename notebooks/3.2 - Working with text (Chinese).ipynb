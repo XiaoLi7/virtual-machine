{
 "cells": [
  {
   "cell_type": "code",
   "execution_count": null,
   "metadata": {
    "collapsed": true
   },
   "outputs": [],
   "source": [
    "import re"
   ]
  },
  {
   "cell_type": "code",
   "execution_count": null,
   "metadata": {},
   "outputs": [],
   "source": [
    "filename = \"data/journey.txt\"\n",
    "raw_text = open(filename).read()\n",
    "\n",
    "n_chars = len(raw_text)\n",
    "print(\"length of text:\", n_chars)"
   ]
  },
  {
   "cell_type": "code",
   "execution_count": null,
   "metadata": {},
   "outputs": [],
   "source": [
    "paragraphs = raw_text.split('\\n')\n",
    "paragraphs = [p for p in paragraphs if len(p) > 0]\n",
    "print(\"number of paragraphs:\", len(paragraphs))\n",
    "\n",
    "characters = []\n",
    "for p in paragraphs:\n",
    "    characters += re.sub('[，,。,：,﹔,《,》,」,「,一,　]', '', p)\n",
    "print(\"number of characters:\", len(characters))\n",
    "\n",
    "# letters = []\n",
    "# for w in words:\n",
    "#     letters += w\n",
    "# print \"number of letters:\", len(letters)"
   ]
  },
  {
   "cell_type": "code",
   "execution_count": null,
   "metadata": {},
   "outputs": [],
   "source": [
    "# https://docs.python.org/3/library/collections.html#counter-objects\n",
    "import collections\n",
    "\n",
    "charSet = collections.Counter(characters)\n",
    "common = charSet.most_common(10)\n",
    "print(common[0])\n",
    "print(\"most common characters:\", [c[0] for c in common])\n",
    "\n",
    "uniqueChars = list(charSet)\n",
    "print(\"unique characters:\", len(uniqueChars))\n",
    "\n",
    "# letterSet = collections.Counter(letters)\n",
    "# print \"most common letters:\", letterSet.most_common(10)"
   ]
  }
 ],
 "metadata": {
  "kernelspec": {
   "display_name": "Python 3",
   "language": "python",
   "name": "python3"
  },
  "language_info": {
   "codemirror_mode": {
    "name": "ipython",
    "version": 3
   },
   "file_extension": ".py",
   "mimetype": "text/x-python",
   "name": "python",
   "nbconvert_exporter": "python",
   "pygments_lexer": "ipython3",
   "version": "3.6.1"
  }
 },
 "nbformat": 4,
 "nbformat_minor": 2
}
